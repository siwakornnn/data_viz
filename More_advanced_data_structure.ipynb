{
  "nbformat": 4,
  "nbformat_minor": 0,
  "metadata": {
    "colab": {
      "name": "More advanced data structure.ipynb",
      "provenance": [],
      "collapsed_sections": [],
      "authorship_tag": "ABX9TyOJJmYnaDFn14z4QTcpasI8",
      "include_colab_link": true
    },
    "kernelspec": {
      "name": "python3",
      "display_name": "Python 3"
    }
  },
  "cells": [
    {
      "cell_type": "markdown",
      "metadata": {
        "id": "view-in-github",
        "colab_type": "text"
      },
      "source": [
        "<a href=\"https://colab.research.google.com/github/siwakornnn/data_viz/blob/main/More_advanced_data_structure.ipynb\" target=\"_parent\"><img src=\"https://colab.research.google.com/assets/colab-badge.svg\" alt=\"Open In Colab\"/></a>"
      ]
    },
    {
      "cell_type": "code",
      "metadata": {
        "id": "RekdY0tBmh53"
      },
      "source": [
        ""
      ],
      "execution_count": null,
      "outputs": []
    },
    {
      "cell_type": "markdown",
      "metadata": {
        "id": "cDSIr_GVneLv"
      },
      "source": [
        "# Dictionary"
      ]
    },
    {
      "cell_type": "markdown",
      "metadata": {
        "id": "ZK4lKIYnop3r"
      },
      "source": [
        "สามารถ index ด้วยอะไรก็ได้ แต่ลำดับจะหายไป"
      ]
    },
    {
      "cell_type": "code",
      "metadata": {
        "id": "mwuxwq-UozIP"
      },
      "source": [
        "ex_dict = {'a':10, '1':1, 'stat':5} #curly brackets ในการบอกว่าเป็น dict"
      ],
      "execution_count": null,
      "outputs": []
    },
    {
      "cell_type": "code",
      "metadata": {
        "colab": {
          "base_uri": "https://localhost:8080/"
        },
        "id": "6v-PydAzpWFT",
        "outputId": "49ada022-d49e-48ed-d5b2-dc819bef53f4"
      },
      "source": [
        "ex_dict['stat']"
      ],
      "execution_count": null,
      "outputs": [
        {
          "output_type": "execute_result",
          "data": {
            "text/plain": [
              "5"
            ]
          },
          "metadata": {
            "tags": []
          },
          "execution_count": 2
        }
      ]
    },
    {
      "cell_type": "code",
      "metadata": {
        "id": "mGVJUhu9pbNO"
      },
      "source": [
        "ex2_dict = {1:'one', 2:'two', 3:'three'}"
      ],
      "execution_count": null,
      "outputs": []
    },
    {
      "cell_type": "code",
      "metadata": {
        "colab": {
          "base_uri": "https://localhost:8080/",
          "height": 34
        },
        "id": "_-7TY7b8p1Lo",
        "outputId": "418d0044-709b-4f8b-ba11-0902b98c597b"
      },
      "source": [
        "ex2_dict[1]"
      ],
      "execution_count": null,
      "outputs": [
        {
          "output_type": "execute_result",
          "data": {
            "application/vnd.google.colaboratory.intrinsic+json": {
              "type": "string"
            },
            "text/plain": [
              "'one'"
            ]
          },
          "metadata": {
            "tags": []
          },
          "execution_count": 4
        }
      ]
    },
    {
      "cell_type": "markdown",
      "metadata": {
        "id": "JmtbMoteqUb9"
      },
      "source": [
        "### การเพิ่มสมาชิกใน dict"
      ]
    },
    {
      "cell_type": "code",
      "metadata": {
        "id": "5LlLLlFKqbSi"
      },
      "source": [
        "ex2_dict[0] = 'zero'"
      ],
      "execution_count": null,
      "outputs": []
    },
    {
      "cell_type": "code",
      "metadata": {
        "colab": {
          "base_uri": "https://localhost:8080/"
        },
        "id": "Oys14CYlqoia",
        "outputId": "384ef7ea-3eba-412d-96b0-88b73ac26b34"
      },
      "source": [
        "ex2_dict"
      ],
      "execution_count": null,
      "outputs": [
        {
          "output_type": "execute_result",
          "data": {
            "text/plain": [
              "{0: 'zero', 1: 'one', 2: 'two', 3: 'three'}"
            ]
          },
          "metadata": {
            "tags": []
          },
          "execution_count": 6
        }
      ]
    },
    {
      "cell_type": "markdown",
      "metadata": {
        "id": "6oCrfRRZq21Z"
      },
      "source": [
        "คำสั่ง"
      ]
    },
    {
      "cell_type": "code",
      "metadata": {
        "colab": {
          "base_uri": "https://localhost:8080/"
        },
        "id": "kFgV3G0hq6cG",
        "outputId": "b0fdc621-11ae-4a96-8ee8-0ce3f8702469"
      },
      "source": [
        "ex2_dict.keys()"
      ],
      "execution_count": null,
      "outputs": [
        {
          "output_type": "execute_result",
          "data": {
            "text/plain": [
              "dict_keys([1, 2, 3, 0])"
            ]
          },
          "metadata": {
            "tags": []
          },
          "execution_count": 8
        }
      ]
    },
    {
      "cell_type": "code",
      "metadata": {
        "colab": {
          "base_uri": "https://localhost:8080/"
        },
        "id": "E9gbnC1UrMU0",
        "outputId": "76359f85-d3cd-4f57-cfa1-8d9c4fa1981d"
      },
      "source": [
        "for index in ex2_dict.keys():\r\n",
        "     print(index)"
      ],
      "execution_count": null,
      "outputs": [
        {
          "output_type": "stream",
          "text": [
            "1\n",
            "2\n",
            "3\n",
            "0\n"
          ],
          "name": "stdout"
        }
      ]
    },
    {
      "cell_type": "markdown",
      "metadata": {
        "id": "-40aXkwaroro"
      },
      "source": [
        "ex2_dict.values()"
      ]
    },
    {
      "cell_type": "markdown",
      "metadata": {
        "id": "avdfGhoTs3CP"
      },
      "source": [
        "dict เอาไปใช้ร่วมกับ Datframe ของ pa"
      ]
    },
    {
      "cell_type": "markdown",
      "metadata": {
        "id": "OpLUFaF4t-O4"
      },
      "source": [
        "numpy คือ package ที่ทำงานกี่ยวกับ array ของตัวเลข (ที่มีคนเขียนขึ้นมาและนิยมใช้)\r\n",
        "\r\n",
        "numpy -> number python"
      ]
    },
    {
      "cell_type": "code",
      "metadata": {
        "id": "hzk07hVqubrb"
      },
      "source": [
        "import numpy #วิธีเรียกใช้งาน package"
      ],
      "execution_count": null,
      "outputs": []
    },
    {
      "cell_type": "code",
      "metadata": {
        "colab": {
          "base_uri": "https://localhost:8080/"
        },
        "id": "o6M0GGzBuqcP",
        "outputId": "cd75fac2-1bc2-4ddd-a32f-3e3ac5f12b5e"
      },
      "source": [
        "ex_2d_array = numpy.array([[5.2,3.0,4.5],[9.1,0.1,0.3]])\r\n",
        "print(ex_2d_array)"
      ],
      "execution_count": null,
      "outputs": [
        {
          "output_type": "stream",
          "text": [
            "[[5.2 3.  4.5]\n",
            " [9.1 0.1 0.3]]\n"
          ],
          "name": "stdout"
        }
      ]
    },
    {
      "cell_type": "markdown",
      "metadata": {
        "id": "yz_R-1AZvDUU"
      },
      "source": [
        "การชี้ค่าใน numpy array"
      ]
    },
    {
      "cell_type": "code",
      "metadata": {
        "colab": {
          "base_uri": "https://localhost:8080/"
        },
        "id": "BOAsx3Srvbwt",
        "outputId": "a7b0364b-e1a6-4d0e-b5f8-858ad6762bbf"
      },
      "source": [
        "ex_2d_array[1,2]"
      ],
      "execution_count": null,
      "outputs": [
        {
          "output_type": "execute_result",
          "data": {
            "text/plain": [
              "0.3"
            ]
          },
          "metadata": {
            "tags": []
          },
          "execution_count": 15
        }
      ]
    },
    {
      "cell_type": "code",
      "metadata": {
        "colab": {
          "base_uri": "https://localhost:8080/"
        },
        "id": "sowtb4Ccv8Gl",
        "outputId": "5347a165-bae8-4ad4-937c-8a5f2240cb97"
      },
      "source": [
        "list_x = [[5.2,3.0,4.5],[9.1,0.1,0.3]] #การชี้ list\r\n",
        "print(len(list_x)) #หาจำนวนสมาชิก\r\n",
        "print(list_x[1])\r\n",
        "print(list_x[1][2])"
      ],
      "execution_count": null,
      "outputs": [
        {
          "output_type": "stream",
          "text": [
            "2\n",
            "[9.1, 0.1, 0.3]\n",
            "0.3\n"
          ],
          "name": "stdout"
        }
      ]
    },
    {
      "cell_type": "markdown",
      "metadata": {
        "id": "vVUpx96fx7xz"
      },
      "source": [
        "### Operations"
      ]
    },
    {
      "cell_type": "code",
      "metadata": {
        "colab": {
          "base_uri": "https://localhost:8080/"
        },
        "id": "AJKASBFJx_c8",
        "outputId": "94471aa4-bfef-46fb-f4c2-945f9ff05c6a"
      },
      "source": [
        "ex2_2d_array = numpy.array([[1,0,0],[0,0,1]])\r\n",
        "print(ex2_2d_array)\r\n",
        "print(ex_2d_array)"
      ],
      "execution_count": null,
      "outputs": [
        {
          "output_type": "stream",
          "text": [
            "[[1 0 0]\n",
            " [0 0 1]]\n",
            "[[5.2 3.  4.5]\n",
            " [9.1 0.1 0.3]]\n"
          ],
          "name": "stdout"
        }
      ]
    },
    {
      "cell_type": "code",
      "metadata": {
        "colab": {
          "base_uri": "https://localhost:8080/"
        },
        "id": "kyZmyi3tyab2",
        "outputId": "febf67be-1e9c-49cd-eaf5-c28d38ebb385"
      },
      "source": [
        "ex2_2d_array.shape #ตรวจสอบขนาดของ matrix"
      ],
      "execution_count": null,
      "outputs": [
        {
          "output_type": "execute_result",
          "data": {
            "text/plain": [
              "(2, 3)"
            ]
          },
          "metadata": {
            "tags": []
          },
          "execution_count": 19
        }
      ]
    },
    {
      "cell_type": "code",
      "metadata": {
        "colab": {
          "base_uri": "https://localhost:8080/"
        },
        "id": "vKCnVobuykA1",
        "outputId": "11a823e1-72ea-46b6-d16a-63add7f28596"
      },
      "source": [
        "ex_2d_array + ex2_2d_array"
      ],
      "execution_count": null,
      "outputs": [
        {
          "output_type": "execute_result",
          "data": {
            "text/plain": [
              "array([[6.2, 3. , 4.5],\n",
              "       [9.1, 0.1, 1.3]])"
            ]
          },
          "metadata": {
            "tags": []
          },
          "execution_count": 21
        }
      ]
    },
    {
      "cell_type": "code",
      "metadata": {
        "colab": {
          "base_uri": "https://localhost:8080/"
        },
        "id": "huxpLaq6zKfr",
        "outputId": "2a320b99-07b1-486b-f27d-4b60cb10dca3"
      },
      "source": [
        "list_x = [[5.2,3.0,4.5],[9.1,0.1,0.3]]\r\n",
        "list_x2 = [[1,0,0],[0,0,1]]\r\n",
        "list_x + list_x2"
      ],
      "execution_count": null,
      "outputs": [
        {
          "output_type": "execute_result",
          "data": {
            "text/plain": [
              "[[5.2, 3.0, 4.5], [9.1, 0.1, 0.3], [1, 0, 0], [0, 0, 1]]"
            ]
          },
          "metadata": {
            "tags": []
          },
          "execution_count": 22
        }
      ]
    },
    {
      "cell_type": "code",
      "metadata": {
        "colab": {
          "base_uri": "https://localhost:8080/"
        },
        "id": "tf0kl4MNzjQ2",
        "outputId": "795d8d40-c523-44c2-d0a2-e62ce6ddb4a8"
      },
      "source": [
        "ex_2d_array - ex2_2d_array"
      ],
      "execution_count": null,
      "outputs": [
        {
          "output_type": "execute_result",
          "data": {
            "text/plain": [
              "array([[ 4.2,  3. ,  4.5],\n",
              "       [ 9.1,  0.1, -0.7]])"
            ]
          },
          "metadata": {
            "tags": []
          },
          "execution_count": 23
        }
      ]
    },
    {
      "cell_type": "code",
      "metadata": {
        "colab": {
          "base_uri": "https://localhost:8080/"
        },
        "id": "f6VvfRCJz4AF",
        "outputId": "0e7b2f54-3a34-468e-ebaf-44553f1c2f7b"
      },
      "source": [
        "dot_mat = numpy.dot(ex_2d_array,ex2_2d_array.T)\r\n",
        "print(dot_mat)"
      ],
      "execution_count": null,
      "outputs": [
        {
          "output_type": "stream",
          "text": [
            "[[5.2 4.5]\n",
            " [9.1 0.3]]\n"
          ],
          "name": "stdout"
        }
      ]
    },
    {
      "cell_type": "code",
      "metadata": {
        "colab": {
          "base_uri": "https://localhost:8080/"
        },
        "id": "rbyzBJbn27Ew",
        "outputId": "949f9942-a479-420c-cdd6-c2469b55fcb6"
      },
      "source": [
        "numpy.linalg.det(dot_mat)"
      ],
      "execution_count": null,
      "outputs": [
        {
          "output_type": "execute_result",
          "data": {
            "text/plain": [
              "-39.389999999999986"
            ]
          },
          "metadata": {
            "tags": []
          },
          "execution_count": 28
        }
      ]
    },
    {
      "cell_type": "markdown",
      "metadata": {
        "id": "Kl_6Z_dv3-Y1"
      },
      "source": [
        "search google -> stackoverflow หรือ web ของ package สำหรับ operations อื่นๆ "
      ]
    },
    {
      "cell_type": "markdown",
      "metadata": {
        "id": "ci9vnO4v5UeJ"
      },
      "source": [
        "##matrix slicing"
      ]
    },
    {
      "cell_type": "code",
      "metadata": {
        "colab": {
          "base_uri": "https://localhost:8080/"
        },
        "id": "iMP-93e55d6j",
        "outputId": "dcddabeb-1ff8-4488-a821-b4dcc1aec2a6"
      },
      "source": [
        "print(ex_2d_array)"
      ],
      "execution_count": null,
      "outputs": [
        {
          "output_type": "stream",
          "text": [
            "[[5.2 3.  4.5]\n",
            " [9.1 0.1 0.3]]\n"
          ],
          "name": "stdout"
        }
      ]
    },
    {
      "cell_type": "code",
      "metadata": {
        "colab": {
          "base_uri": "https://localhost:8080/"
        },
        "id": "JM51p7Jy5ntu",
        "outputId": "9d8de95e-8fd9-49e9-ed54-6c30ef0ece0c"
      },
      "source": [
        "ex_2d_array[1,1:]"
      ],
      "execution_count": null,
      "outputs": [
        {
          "output_type": "execute_result",
          "data": {
            "text/plain": [
              "array([0.1, 0.3])"
            ]
          },
          "metadata": {
            "tags": []
          },
          "execution_count": 32
        }
      ]
    },
    {
      "cell_type": "code",
      "metadata": {
        "colab": {
          "base_uri": "https://localhost:8080/"
        },
        "id": "H_bjp8xe6GpN",
        "outputId": "0c625949-19a9-4c02-9025-5d3e908c1db2"
      },
      "source": [
        "ex_2d_array[:,:2]"
      ],
      "execution_count": null,
      "outputs": [
        {
          "output_type": "execute_result",
          "data": {
            "text/plain": [
              "array([[5.2, 3. ],\n",
              "       [9.1, 0.1]])"
            ]
          },
          "metadata": {
            "tags": []
          },
          "execution_count": 33
        }
      ]
    },
    {
      "cell_type": "markdown",
      "metadata": {
        "id": "DLmfzoEd4sAu"
      },
      "source": [
        "HW5 เขียน function คูณ matrix\r\n",
        "\r\n",
        "> บล็อกที่มีการเยื้อง\r\n",
        "\r\n",
        "\r\n",
        "แล้ว test กับ matrix ขนาด\r\n",
        "(2,3)*(3,2)\r\n",
        "(4,4)*(4,1)\r\n",
        "(2,2)*(2,2)"
      ]
    },
    {
      "cell_type": "code",
      "metadata": {
        "id": "w4Abq8JFDlF2"
      },
      "source": [
        "import numpy as np"
      ],
      "execution_count": null,
      "outputs": []
    },
    {
      "cell_type": "code",
      "metadata": {
        "id": "m8_ouprcDtLW"
      },
      "source": [
        "#(2,3) A\r\n",
        "A = np.array([[5.4,3.5,0.0],[6.4,1.8,4.3]]) \r\n",
        "#(3,2) B\r\n",
        "B = np.array([[4.9,5.6],[9.3,8.2],[6.3,96]])\r\n",
        "#(4,4) C\r\n",
        "C = np.array([[8.5,4.3,9.6,7.8],[6.5,5.3,8.8,4.4],[8.6,8.9,7.5,9.9],[5.6,8.4,1.5,1.8]])\r\n",
        "#(4,1) D\r\n",
        "D = np.array([[5.0],[5.6],[9.4],[5.5]])\r\n",
        "#(2,2) E\r\n",
        "E = np.array([[1.1,1.1],[1.1,1.1]])\r\n",
        "#(2,2) F\r\n",
        "F = np.array([[4.6,6.4],[4.4,6.6]])"
      ],
      "execution_count": null,
      "outputs": []
    },
    {
      "cell_type": "code",
      "metadata": {
        "colab": {
          "base_uri": "https://localhost:8080/"
        },
        "id": "D0FHJmkqDwfQ",
        "outputId": "14be0c3f-2198-4404-e6a0-b1f15450cf4c"
      },
      "source": [
        "print(f'A = {A}\\n\\n\\\r\n",
        "B = {B}\\n\\n\\\r\n",
        "C = {C}\\n\\n\\\r\n",
        "D = {D}\\n\\n\\\r\n",
        "E = {E}\\n\\n\\\r\n",
        "F = {F}\\n')"
      ],
      "execution_count": null,
      "outputs": [
        {
          "output_type": "stream",
          "text": [
            "A = [[5.4 3.5 0. ]\n",
            " [6.4 1.8 4.3]]\n",
            "\n",
            "B = [[ 4.9  5.6]\n",
            " [ 9.3  8.2]\n",
            " [ 6.3 96. ]]\n",
            "\n",
            "C = [[8.5 4.3 9.6 7.8]\n",
            " [6.5 5.3 8.8 4.4]\n",
            " [8.6 8.9 7.5 9.9]\n",
            " [5.6 8.4 1.5 1.8]]\n",
            "\n",
            "D = [[5. ]\n",
            " [5.6]\n",
            " [9.4]\n",
            " [5.5]]\n",
            "\n",
            "E = [[1.1 1.1]\n",
            " [1.1 1.1]]\n",
            "\n",
            "F = [[4.6 6.4]\n",
            " [4.4 6.6]]\n",
            "\n"
          ],
          "name": "stdout"
        }
      ]
    },
    {
      "cell_type": "code",
      "metadata": {
        "id": "ggfDdN4_D2Ib"
      },
      "source": [
        ""
      ],
      "execution_count": null,
      "outputs": []
    },
    {
      "cell_type": "markdown",
      "metadata": {
        "id": "YWSrPcxeIPSR"
      },
      "source": [
        "HW5 เขียน function คูณ matrix แล้ว test กับ matrix ขนาด\r\n",
        "*   (2,3)*(3,2)\r\n",
        "*   (4,4)*(4,1)\r\n",
        "*   (2,2)*(2,2)"
      ]
    },
    {
      "cell_type": "code",
      "metadata": {
        "id": "fXeagQY2KUWv"
      },
      "source": [
        "import numpy as np"
      ],
      "execution_count": 1,
      "outputs": []
    },
    {
      "cell_type": "code",
      "metadata": {
        "colab": {
          "base_uri": "https://localhost:8080/"
        },
        "id": "xTUhhuaIKeFt",
        "outputId": "92930eb7-7b22-4a77-8ed6-258472b6eac4"
      },
      "source": [
        "#Matrix 2*3\r\n",
        "mat_A = np.array([[1,4,2],[2,8,7]])\r\n",
        "mat_A"
      ],
      "execution_count": 2,
      "outputs": [
        {
          "output_type": "execute_result",
          "data": {
            "text/plain": [
              "array([[1, 4, 2],\n",
              "       [2, 8, 7]])"
            ]
          },
          "metadata": {
            "tags": []
          },
          "execution_count": 2
        }
      ]
    },
    {
      "cell_type": "code",
      "metadata": {
        "colab": {
          "base_uri": "https://localhost:8080/"
        },
        "id": "CHA4t9pAKjKm",
        "outputId": "b8ee2365-f2da-4ffa-8600-4229cdd68e69"
      },
      "source": [
        "#Matrix 3*2\r\n",
        "mat_B = np.array([[4,2],[6,8],[2,1]])\r\n",
        "mat_B"
      ],
      "execution_count": 3,
      "outputs": [
        {
          "output_type": "execute_result",
          "data": {
            "text/plain": [
              "array([[4, 2],\n",
              "       [6, 8],\n",
              "       [2, 1]])"
            ]
          },
          "metadata": {
            "tags": []
          },
          "execution_count": 3
        }
      ]
    },
    {
      "cell_type": "code",
      "metadata": {
        "colab": {
          "base_uri": "https://localhost:8080/"
        },
        "id": "KxwgSSplKlNa",
        "outputId": "26a2c5a2-2aaa-48ca-a47e-7636dfb12ce9"
      },
      "source": [
        "#Matrix 4*4\r\n",
        "mat_C = np.array([[1,5,4,3],[5,2,1,4],[9,6,2,4],[1,3,2,4]])\r\n",
        "mat_C"
      ],
      "execution_count": 4,
      "outputs": [
        {
          "output_type": "execute_result",
          "data": {
            "text/plain": [
              "array([[1, 5, 4, 3],\n",
              "       [5, 2, 1, 4],\n",
              "       [9, 6, 2, 4],\n",
              "       [1, 3, 2, 4]])"
            ]
          },
          "metadata": {
            "tags": []
          },
          "execution_count": 4
        }
      ]
    },
    {
      "cell_type": "code",
      "metadata": {
        "colab": {
          "base_uri": "https://localhost:8080/"
        },
        "id": "dnz0ZmG1Kphc",
        "outputId": "0bd3394a-a2aa-404c-e19b-083020ff44de"
      },
      "source": [
        "#Matrix 4*1\r\n",
        "mat_D = np.array([[1],[4],[5],[7]])\r\n",
        "mat_D"
      ],
      "execution_count": 5,
      "outputs": [
        {
          "output_type": "execute_result",
          "data": {
            "text/plain": [
              "array([[1],\n",
              "       [4],\n",
              "       [5],\n",
              "       [7]])"
            ]
          },
          "metadata": {
            "tags": []
          },
          "execution_count": 5
        }
      ]
    },
    {
      "cell_type": "code",
      "metadata": {
        "colab": {
          "base_uri": "https://localhost:8080/"
        },
        "id": "5r_2wHbHKy7E",
        "outputId": "c715852e-7f2d-4376-9e58-3f3c18875b66"
      },
      "source": [
        "#Matrix 2*2 \r\n",
        "mat_E = np.array([[5,1],[4,2]])\r\n",
        "mat_E"
      ],
      "execution_count": 6,
      "outputs": [
        {
          "output_type": "execute_result",
          "data": {
            "text/plain": [
              "array([[5, 1],\n",
              "       [4, 2]])"
            ]
          },
          "metadata": {
            "tags": []
          },
          "execution_count": 6
        }
      ]
    },
    {
      "cell_type": "code",
      "metadata": {
        "colab": {
          "base_uri": "https://localhost:8080/"
        },
        "id": "IA3KzVm3K0Vd",
        "outputId": "96a6cc6d-df33-4a5a-f3a0-597932ebc7a5"
      },
      "source": [
        "mat_F = np.array([[1,8],[7,3]])\r\n",
        "mat_F"
      ],
      "execution_count": 7,
      "outputs": [
        {
          "output_type": "execute_result",
          "data": {
            "text/plain": [
              "array([[1, 8],\n",
              "       [7, 3]])"
            ]
          },
          "metadata": {
            "tags": []
          },
          "execution_count": 7
        }
      ]
    },
    {
      "cell_type": "code",
      "metadata": {
        "id": "6Q8pS6nfK_u0"
      },
      "source": [
        "def mul_mat(a, b) :\r\n",
        "  c = [[0 for row in range(len(b[0]))] for col in range(len(a))]\r\n",
        "  for i in range(len(a)) :\r\n",
        "    for j in range(len(b[0])) :\r\n",
        "      for k in range(len(b)) :\r\n",
        "        c[i][j] += a[i][k]*b[k][j]\r\n",
        "  r = np.matrix(c)\r\n",
        "  return r"
      ],
      "execution_count": 9,
      "outputs": []
    },
    {
      "cell_type": "code",
      "metadata": {
        "colab": {
          "base_uri": "https://localhost:8080/"
        },
        "id": "MpS-XlzwNt8-",
        "outputId": "791ebcef-3668-4659-8c41-6f9f6afee7ed"
      },
      "source": [
        "mul_mat(mat_A,mat_B) #(2,3)*(3,2)"
      ],
      "execution_count": 12,
      "outputs": [
        {
          "output_type": "execute_result",
          "data": {
            "text/plain": [
              "matrix([[32, 36],\n",
              "        [70, 75]])"
            ]
          },
          "metadata": {
            "tags": []
          },
          "execution_count": 12
        }
      ]
    },
    {
      "cell_type": "code",
      "metadata": {
        "colab": {
          "base_uri": "https://localhost:8080/"
        },
        "id": "WdJGd31ROX2I",
        "outputId": "029d4067-4973-4d60-b961-c8866007ce4e"
      },
      "source": [
        "mul_mat(mat_C,mat_D) #(4,4)*(4,1)"
      ],
      "execution_count": 14,
      "outputs": [
        {
          "output_type": "execute_result",
          "data": {
            "text/plain": [
              "matrix([[62],\n",
              "        [46],\n",
              "        [71],\n",
              "        [51]])"
            ]
          },
          "metadata": {
            "tags": []
          },
          "execution_count": 14
        }
      ]
    },
    {
      "cell_type": "code",
      "metadata": {
        "colab": {
          "base_uri": "https://localhost:8080/"
        },
        "id": "8_EUtSoxOcbd",
        "outputId": "4dfdf3a7-9725-47b7-8c6e-5e22e3d2bb8a"
      },
      "source": [
        "mul_mat(mat_E,mat_F) #(2,2)*(2,2)"
      ],
      "execution_count": 15,
      "outputs": [
        {
          "output_type": "execute_result",
          "data": {
            "text/plain": [
              "matrix([[12, 43],\n",
              "        [18, 38]])"
            ]
          },
          "metadata": {
            "tags": []
          },
          "execution_count": 15
        }
      ]
    },
    {
      "cell_type": "markdown",
      "metadata": {
        "id": "72-5Na4tPI_Y"
      },
      "source": [
        "ตรวจสอบความถูกต้อง"
      ]
    },
    {
      "cell_type": "code",
      "metadata": {
        "colab": {
          "base_uri": "https://localhost:8080/"
        },
        "id": "ZfT9gF7iPJz6",
        "outputId": "20b18298-572f-4183-b411-f3c4eb22da36"
      },
      "source": [
        "np.dot(mat_A,mat_B)"
      ],
      "execution_count": 16,
      "outputs": [
        {
          "output_type": "execute_result",
          "data": {
            "text/plain": [
              "array([[32, 36],\n",
              "       [70, 75]])"
            ]
          },
          "metadata": {
            "tags": []
          },
          "execution_count": 16
        }
      ]
    }
  ]
}