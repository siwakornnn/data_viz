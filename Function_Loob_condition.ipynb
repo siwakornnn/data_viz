{
  "nbformat": 4,
  "nbformat_minor": 0,
  "metadata": {
    "colab": {
      "name": "Function_Loob_condition.ipynb",
      "provenance": [],
      "authorship_tag": "ABX9TyPBmIeUUktKia03AaixeZsv",
      "include_colab_link": true
    },
    "kernelspec": {
      "name": "python3",
      "display_name": "Python 3"
    }
  },
  "cells": [
    {
      "cell_type": "markdown",
      "metadata": {
        "id": "view-in-github",
        "colab_type": "text"
      },
      "source": [
        "<a href=\"https://colab.research.google.com/github/siwakornnn/data_viz/blob/main/Function_Loob_condition.ipynb\" target=\"_parent\"><img src=\"https://colab.research.google.com/assets/colab-badge.svg\" alt=\"Open In Colab\"/></a>"
      ]
    },
    {
      "cell_type": "code",
      "metadata": {
        "id": "YQSSRzi7mQRX"
      },
      "source": [
        "def function_name(_Input_)   :\r\n",
        "     do_something with _Input_ to get _Output"
      ],
      "execution_count": null,
      "outputs": []
    },
    {
      "cell_type": "code",
      "metadata": {
        "id": "vV3PWpZnnQl0"
      },
      "source": [
        "def print_name(surname,ID,name):\r\n",
        "     st = f'ชื่อ {name} นามสกุล {surname} รหัส {ID}'\r\n",
        "     return st"
      ],
      "execution_count": null,
      "outputs": []
    },
    {
      "cell_type": "code",
      "metadata": {
        "colab": {
          "base_uri": "https://localhost:8080/",
          "height": 34
        },
        "id": "iVR0Zj8poJ3z",
        "outputId": "0c6c7aa6-cee1-44b6-aeaa-3d5a3fe37754"
      },
      "source": [
        "print_name('แตงอ่อน','603021840-5','ศิวกร')"
      ],
      "execution_count": null,
      "outputs": [
        {
          "output_type": "execute_result",
          "data": {
            "application/vnd.google.colaboratory.intrinsic+json": {
              "type": "string"
            },
            "text/plain": [
              "'ชื่อ ศิวกร นามสกุล แตงอ่อน รหัส 603021840-5'"
            ]
          },
          "metadata": {
            "tags": []
          },
          "execution_count": 16
        }
      ]
    },
    {
      "cell_type": "code",
      "metadata": {
        "id": "fPTpeE1HpkHv"
      },
      "source": [
        "def print_name2(surname,ID,name):\r\n",
        "     st = f'ชื่อ {name} นามสกุล {surname} รหัส {ID}'\r\n",
        "     return st"
      ],
      "execution_count": null,
      "outputs": []
    },
    {
      "cell_type": "code",
      "metadata": {
        "colab": {
          "base_uri": "https://localhost:8080/",
          "height": 34
        },
        "id": "O-qUBFzNp0rD",
        "outputId": "3cfaeb8c-a375-4616-ee52-c2d035e3fff3"
      },
      "source": [
        "print_name2(name = 'ศิวกร' ,surname = 'แตงอ่อน' ,ID = '603021840-5')"
      ],
      "execution_count": null,
      "outputs": [
        {
          "output_type": "execute_result",
          "data": {
            "application/vnd.google.colaboratory.intrinsic+json": {
              "type": "string"
            },
            "text/plain": [
              "'ชื่อ ศิวกร นามสกุล แตงอ่อน รหัส 603021840-5'"
            ]
          },
          "metadata": {
            "tags": []
          },
          "execution_count": 11
        }
      ]
    },
    {
      "cell_type": "code",
      "metadata": {
        "id": "EmEL5S0Rq4VF"
      },
      "source": [
        "def Pi():\r\n",
        "  return 3.14159265359"
      ],
      "execution_count": null,
      "outputs": []
    },
    {
      "cell_type": "code",
      "metadata": {
        "colab": {
          "base_uri": "https://localhost:8080/"
        },
        "id": "Q5kbSyEkrDm3",
        "outputId": "e04605b7-0737-4a11-f399-1e1ddb938ae5"
      },
      "source": [
        "Pi()*(2**2)"
      ],
      "execution_count": null,
      "outputs": [
        {
          "output_type": "execute_result",
          "data": {
            "text/plain": [
              "12.56637061436"
            ]
          },
          "metadata": {
            "tags": []
          },
          "execution_count": 30
        }
      ]
    },
    {
      "cell_type": "code",
      "metadata": {
        "id": "DaFUcrnCry0m"
      },
      "source": [
        "def print_2line_default(name,surname,ID,grade='F'):\r\n",
        "     st1 = f'ชื่อ {name} นามสกุล {surname} รหัส {ID}'\r\n",
        "     print(st1)\r\n",
        "     st2 = f'เกรดวิชา Datd Viz >>> {grade}'\r\n",
        "     print(st2)"
      ],
      "execution_count": null,
      "outputs": []
    },
    {
      "cell_type": "code",
      "metadata": {
        "colab": {
          "base_uri": "https://localhost:8080/"
        },
        "id": "lvbIAhq0tL67",
        "outputId": "8d96f816-0d7b-46e1-de76-e9836e176159"
      },
      "source": [
        "print_2line_default('ศิวกร','แตงอ่อน','603021840-5')"
      ],
      "execution_count": null,
      "outputs": [
        {
          "output_type": "stream",
          "text": [
            "ชื่อ ศิวกร นามสกุล แตงอ่อน รหัส 603021840-5\n",
            "เกรดวิชา Datd Viz >>> F\n"
          ],
          "name": "stdout"
        }
      ]
    },
    {
      "cell_type": "code",
      "metadata": {
        "colab": {
          "base_uri": "https://localhost:8080/"
        },
        "id": "d3jyAAoo0hFT",
        "outputId": "f14133a0-bb27-49bb-d7ff-1e089305733d"
      },
      "source": [
        "for i in [1,2,3]:\r\n",
        "     o = i**2\r\n",
        "     print(f'this member = {i} after process = {o}')"
      ],
      "execution_count": null,
      "outputs": [
        {
          "output_type": "stream",
          "text": [
            "this member = 1 after process = 1\n",
            "this member = 2 after process = 4\n",
            "this member = 3 after process = 9\n"
          ],
          "name": "stdout"
        }
      ]
    },
    {
      "cell_type": "code",
      "metadata": {
        "colab": {
          "base_uri": "https://localhost:8080/"
        },
        "id": "L9B4hFPGjcnY",
        "outputId": "e000d540-d85d-41a2-bbfc-564a2f4ac268"
      },
      "source": [
        "for i in 'siwakorn':  #สั่งให้ปริ้นแบบเว้นบรรทัด\r\n",
        "  print(f'{i} -> /')"
      ],
      "execution_count": 2,
      "outputs": [
        {
          "output_type": "stream",
          "text": [
            "s -> /\n",
            "i -> /\n",
            "w -> /\n",
            "a -> /\n",
            "k -> /\n",
            "o -> /\n",
            "r -> /\n",
            "n -> /\n"
          ],
          "name": "stdout"
        }
      ]
    },
    {
      "cell_type": "code",
      "metadata": {
        "colab": {
          "base_uri": "https://localhost:8080/"
        },
        "id": "cRzOX8J0jn-X",
        "outputId": "5cbda458-98c7-44c6-9840-76eee92bbe43"
      },
      "source": [
        "for i in 'siwakorn':   #สั่งให้ print แบบไม่เว้นบรรทัด\r\n",
        "  print(f'{i} -> /  ', end = ',')"
      ],
      "execution_count": 3,
      "outputs": [
        {
          "output_type": "stream",
          "text": [
            "s -> /  ,i -> /  ,w -> /  ,a -> /  ,k -> /  ,o -> /  ,r -> /  ,n -> /  ,"
          ],
          "name": "stdout"
        }
      ]
    },
    {
      "cell_type": "code",
      "metadata": {
        "colab": {
          "base_uri": "https://localhost:8080/"
        },
        "id": "ZYoaMM-pjwau",
        "outputId": "836cfa41-bd17-404a-afe8-ce189a287966"
      },
      "source": [
        "for i in 'siwakorn':\r\n",
        "    print(f'{i}->/',end= ' ' ) #สั่งให้ print แบบไม่เว้นบรรทัด"
      ],
      "execution_count": 4,
      "outputs": [
        {
          "output_type": "stream",
          "text": [
            "s->/ i->/ w->/ a->/ k->/ o->/ r->/ n->/ "
          ],
          "name": "stdout"
        }
      ]
    },
    {
      "cell_type": "markdown",
      "metadata": {
        "id": "Ict-zHeWkBV8"
      },
      "source": [
        "สร้าง list ตัวเลขแบบอัตโนมัติ range()\r\n"
      ]
    },
    {
      "cell_type": "code",
      "metadata": {
        "colab": {
          "base_uri": "https://localhost:8080/"
        },
        "id": "p99zNDMIkI2w",
        "outputId": "e7876647-6d66-486e-fdda-d5a902ded185"
      },
      "source": [
        "range5_output = range(5)\r\n",
        "print(list(range5_output))"
      ],
      "execution_count": 6,
      "outputs": [
        {
          "output_type": "stream",
          "text": [
            "[0, 1, 2, 3, 4]\n"
          ],
          "name": "stdout"
        }
      ]
    },
    {
      "cell_type": "code",
      "metadata": {
        "colab": {
          "base_uri": "https://localhost:8080/"
        },
        "id": "Jo6ZxDQvkR4f",
        "outputId": "dfeadf2a-1f1a-4920-aaf9-4c4c6fb6a665"
      },
      "source": [
        "for i in range(100) :\r\n",
        "  print('ไนท์',end ='')"
      ],
      "execution_count": 8,
      "outputs": [
        {
          "output_type": "stream",
          "text": [
            "ไนท์ไนท์ไนท์ไนท์ไนท์ไนท์ไนท์ไนท์ไนท์ไนท์ไนท์ไนท์ไนท์ไนท์ไนท์ไนท์ไนท์ไนท์ไนท์ไนท์ไนท์ไนท์ไนท์ไนท์ไนท์ไนท์ไนท์ไนท์ไนท์ไนท์ไนท์ไนท์ไนท์ไนท์ไนท์ไนท์ไนท์ไนท์ไนท์ไนท์ไนท์ไนท์ไนท์ไนท์ไนท์ไนท์ไนท์ไนท์ไนท์ไนท์ไนท์ไนท์ไนท์ไนท์ไนท์ไนท์ไนท์ไนท์ไนท์ไนท์ไนท์ไนท์ไนท์ไนท์ไนท์ไนท์ไนท์ไนท์ไนท์ไนท์ไนท์ไนท์ไนท์ไนท์ไนท์ไนท์ไนท์ไนท์ไนท์ไนท์ไนท์ไนท์ไนท์ไนท์ไนท์ไนท์ไนท์ไนท์ไนท์ไนท์ไนท์ไนท์ไนท์ไนท์ไนท์ไนท์ไนท์ไนท์ไนท์ไนท์"
          ],
          "name": "stdout"
        }
      ]
    },
    {
      "cell_type": "code",
      "metadata": {
        "colab": {
          "base_uri": "https://localhost:8080/"
        },
        "id": "BaWjFcu2kfxT",
        "outputId": "6c7f0e15-9c89-4c01-93a3-aa9f3cfc6af2"
      },
      "source": [
        "list(range(1,11)) #เริ่มต้นเป็นวงทึบ จบเป็นวงโปร่ง เหมือน list slicing"
      ],
      "execution_count": 9,
      "outputs": [
        {
          "output_type": "execute_result",
          "data": {
            "text/plain": [
              "[1, 2, 3, 4, 5, 6, 7, 8, 9, 10]"
            ]
          },
          "metadata": {
            "tags": []
          },
          "execution_count": 9
        }
      ]
    },
    {
      "cell_type": "code",
      "metadata": {
        "colab": {
          "base_uri": "https://localhost:8080/"
        },
        "id": "7XtBtgGXkjvH",
        "outputId": "92a23955-d88a-4554-9367-d37c808ea9fa"
      },
      "source": [
        "list(range(-3,20,4))"
      ],
      "execution_count": 10,
      "outputs": [
        {
          "output_type": "execute_result",
          "data": {
            "text/plain": [
              "[-3, 1, 5, 9, 13, 17]"
            ]
          },
          "metadata": {
            "tags": []
          },
          "execution_count": 10
        }
      ]
    },
    {
      "cell_type": "markdown",
      "metadata": {
        "id": "N4JKa25DkoqT"
      },
      "source": [
        "loop in loop\r\n",
        "สามารถใช้ for loob ซ้อนกันสองรอบได้"
      ]
    },
    {
      "cell_type": "code",
      "metadata": {
        "colab": {
          "base_uri": "https://localhost:8080/"
        },
        "id": "Z5P8PleDkq6n",
        "outputId": "15bbea41-bd5a-464d-d024-a860018f8355"
      },
      "source": [
        "for name1 in range(2,5): #loop นี้วิ่ง(2, 3, 4)\r\n",
        "    print(f'no name1 = {name1}')\r\n",
        "    for name2 in range(1,13):\r\n",
        "        print(name1,' x ',name2, ' = ',name1*name2)\r\n",
        "    print('the inner loop is end')"
      ],
      "execution_count": 11,
      "outputs": [
        {
          "output_type": "stream",
          "text": [
            "no name1 = 2\n",
            "2  x  1  =  2\n",
            "2  x  2  =  4\n",
            "2  x  3  =  6\n",
            "2  x  4  =  8\n",
            "2  x  5  =  10\n",
            "2  x  6  =  12\n",
            "2  x  7  =  14\n",
            "2  x  8  =  16\n",
            "2  x  9  =  18\n",
            "2  x  10  =  20\n",
            "2  x  11  =  22\n",
            "2  x  12  =  24\n",
            "the inner loop is end\n",
            "no name1 = 3\n",
            "3  x  1  =  3\n",
            "3  x  2  =  6\n",
            "3  x  3  =  9\n",
            "3  x  4  =  12\n",
            "3  x  5  =  15\n",
            "3  x  6  =  18\n",
            "3  x  7  =  21\n",
            "3  x  8  =  24\n",
            "3  x  9  =  27\n",
            "3  x  10  =  30\n",
            "3  x  11  =  33\n",
            "3  x  12  =  36\n",
            "the inner loop is end\n",
            "no name1 = 4\n",
            "4  x  1  =  4\n",
            "4  x  2  =  8\n",
            "4  x  3  =  12\n",
            "4  x  4  =  16\n",
            "4  x  5  =  20\n",
            "4  x  6  =  24\n",
            "4  x  7  =  28\n",
            "4  x  8  =  32\n",
            "4  x  9  =  36\n",
            "4  x  10  =  40\n",
            "4  x  11  =  44\n",
            "4  x  12  =  48\n",
            "the inner loop is end\n"
          ],
          "name": "stdout"
        }
      ]
    },
    {
      "cell_type": "markdown",
      "metadata": {
        "id": "PIzWqGa1k3IT"
      },
      "source": [
        "loop in fuction"
      ]
    },
    {
      "cell_type": "code",
      "metadata": {
        "id": "3zdmBuMTk6gh"
      },
      "source": [
        "def print_feelings (I, friends, feeling = 'งุ้ยย'):\r\n",
        "    for friend in  friends :\r\n",
        "      print (f' {I} {feeling} {friend}')"
      ],
      "execution_count": 19,
      "outputs": []
    },
    {
      "cell_type": "code",
      "metadata": {
        "id": "1LTZMwsLlYAW"
      },
      "source": [
        "list_friends = ['แทน', 'วี','บอส','เอ','นัด','เกม']"
      ],
      "execution_count": 20,
      "outputs": []
    },
    {
      "cell_type": "code",
      "metadata": {
        "colab": {
          "base_uri": "https://localhost:8080/"
        },
        "id": "GYo23XUDliv3",
        "outputId": "f3ccd2a3-23b0-4f94-9286-693b61735926"
      },
      "source": [
        "print_feelings (' ไนท์ ' ,list_friends)"
      ],
      "execution_count": 21,
      "outputs": [
        {
          "output_type": "stream",
          "text": [
            "  ไนท์  งุ้ยย แทน\n",
            "  ไนท์  งุ้ยย วี\n",
            "  ไนท์  งุ้ยย บอส\n",
            "  ไนท์  งุ้ยย เอ\n",
            "  ไนท์  งุ้ยย นัด\n",
            "  ไนท์  งุ้ยย เกม\n"
          ],
          "name": "stdout"
        }
      ]
    },
    {
      "cell_type": "code",
      "metadata": {
        "colab": {
          "base_uri": "https://localhost:8080/"
        },
        "id": "27Ih6E55lrrc",
        "outputId": "4cfab57c-bca7-41a9-c0db-ef51721cb9cf"
      },
      "source": [
        "print (list_friends)"
      ],
      "execution_count": 22,
      "outputs": [
        {
          "output_type": "stream",
          "text": [
            "['แทน', 'วี', 'บอส', 'เอ', 'นัด', 'เกม']\n"
          ],
          "name": "stdout"
        }
      ]
    },
    {
      "cell_type": "code",
      "metadata": {
        "colab": {
          "base_uri": "https://localhost:8080/"
        },
        "id": "0AfygP2nlwl2",
        "outputId": "bebbcfbc-dbef-4fc0-f566-335e03f8cfa5"
      },
      "source": [
        "for name1 in list_friends:\r\n",
        "  for name2 in list_friends:\r\n",
        "    if name1 == name2: \r\n",
        "      print(name1, 'งุ้ยย',name2)"
      ],
      "execution_count": 24,
      "outputs": [
        {
          "output_type": "stream",
          "text": [
            "แทน งุ้ยย แทน\n",
            "วี งุ้ยย วี\n",
            "บอส งุ้ยย บอส\n",
            "เอ งุ้ยย เอ\n",
            "นัด งุ้ยย นัด\n",
            "เกม งุ้ยย เกม\n"
          ],
          "name": "stdout"
        }
      ]
    },
    {
      "cell_type": "code",
      "metadata": {
        "colab": {
          "base_uri": "https://localhost:8080/"
        },
        "id": "CstKeB84l5cE",
        "outputId": "30862bb0-9a97-435c-9201-a042bcb393cb"
      },
      "source": [
        "for name1 in list_friends:\r\n",
        "  for name2 in list_friends:\r\n",
        "    if name1 != name2: \r\n",
        "      print(name1, 'งุ้ยย',name2)"
      ],
      "execution_count": 25,
      "outputs": [
        {
          "output_type": "stream",
          "text": [
            "แทน งุ้ยย วี\n",
            "แทน งุ้ยย บอส\n",
            "แทน งุ้ยย เอ\n",
            "แทน งุ้ยย นัด\n",
            "แทน งุ้ยย เกม\n",
            "วี งุ้ยย แทน\n",
            "วี งุ้ยย บอส\n",
            "วี งุ้ยย เอ\n",
            "วี งุ้ยย นัด\n",
            "วี งุ้ยย เกม\n",
            "บอส งุ้ยย แทน\n",
            "บอส งุ้ยย วี\n",
            "บอส งุ้ยย เอ\n",
            "บอส งุ้ยย นัด\n",
            "บอส งุ้ยย เกม\n",
            "เอ งุ้ยย แทน\n",
            "เอ งุ้ยย วี\n",
            "เอ งุ้ยย บอส\n",
            "เอ งุ้ยย นัด\n",
            "เอ งุ้ยย เกม\n",
            "นัด งุ้ยย แทน\n",
            "นัด งุ้ยย วี\n",
            "นัด งุ้ยย บอส\n",
            "นัด งุ้ยย เอ\n",
            "นัด งุ้ยย เกม\n",
            "เกม งุ้ยย แทน\n",
            "เกม งุ้ยย วี\n",
            "เกม งุ้ยย บอส\n",
            "เกม งุ้ยย เอ\n",
            "เกม งุ้ยย นัด\n"
          ],
          "name": "stdout"
        }
      ]
    },
    {
      "cell_type": "markdown",
      "metadata": {
        "id": "WswNZwf_mAqb"
      },
      "source": [
        "== (เท่ากับ),!= (ไท่เท่ากับ),<= ,>= ,< ,>"
      ]
    },
    {
      "cell_type": "code",
      "metadata": {
        "colab": {
          "base_uri": "https://localhost:8080/"
        },
        "id": "DRkfu9sHmDHL",
        "outputId": "21e99cd7-0488-4d63-e85e-c75d82d83e21"
      },
      "source": [
        "' เบส ' == ' ต้า '"
      ],
      "execution_count": 26,
      "outputs": [
        {
          "output_type": "execute_result",
          "data": {
            "text/plain": [
              "False"
            ]
          },
          "metadata": {
            "tags": []
          },
          "execution_count": 26
        }
      ]
    },
    {
      "cell_type": "code",
      "metadata": {
        "colab": {
          "base_uri": "https://localhost:8080/"
        },
        "id": "obOg1qyumMHW",
        "outputId": "8af9bcfc-18af-4a94-8a6e-3c18cacef087"
      },
      "source": [
        "' เบส ' != ' ต้า '"
      ],
      "execution_count": 27,
      "outputs": [
        {
          "output_type": "execute_result",
          "data": {
            "text/plain": [
              "True"
            ]
          },
          "metadata": {
            "tags": []
          },
          "execution_count": 27
        }
      ]
    },
    {
      "cell_type": "markdown",
      "metadata": {
        "id": "zJf_5NZNmWaa"
      },
      "source": [
        "# condition คือ เงื่อนไขหรือประโยคเงื่อนไข"
      ]
    },
    {
      "cell_type": "markdown",
      "metadata": {
        "id": "m3BBdx8xm7md"
      },
      "source": [
        "# Homework4"
      ]
    },
    {
      "cell_type": "code",
      "metadata": {
        "id": "OgAeN-SznCWx"
      },
      "source": [
        "def grade (score):\r\n",
        "  if 0 <= score < 50 :\r\n",
        "    print(f'ได้คะแนนเท่ากับ {score} คะแนน เกรดจะเป็น F ' )\r\n",
        "  elif 50 <= score< 55:\r\n",
        "    print(f'ได้คะแนนเท่ากับ {score} คะแนน เกรดจะเป็น D ' )\r\n",
        "  elif 55 <= score< 60:\r\n",
        "    print(f'ได้คะแนนเท่ากับ {score} คะแนน เกรดจะเป็น D+ ' )\r\n",
        "  elif 60 <= score< 65:\r\n",
        "    print(f'ได้คะแนนเท่ากับ {score} คะแนน เกรดจะเป็น C' )\r\n",
        "  elif 65 <= score<70:\r\n",
        "    print(f'ได้คะแนนเท่ากับ {score} คะแนน เกรดจะเป็น C+' ) \r\n",
        "  elif 70 <= score<75:\r\n",
        "    print(f'ได้คะแนนเท่ากับ {score} คะแนน เกรดจะเป็น B  ' )  \r\n",
        "  elif 75 <= score<80:\r\n",
        "    print(f'ได้คะแนนเท่ากับ {score} คะแนน เกรดจะเป็น B+  ' )  \r\n",
        "  elif 80 <= score<100:\r\n",
        "    print(f'ได้คะแนนเท่ากับ {score} คะแนน เกรดจะเป็น A  ' )  \r\n",
        "  else:\r\n",
        "    print(f'ได้คะแนนเท่ากับ {score} คะแนน เกรดจะเป็น error ')"
      ],
      "execution_count": 28,
      "outputs": []
    },
    {
      "cell_type": "code",
      "metadata": {
        "colab": {
          "base_uri": "https://localhost:8080/"
        },
        "id": "tw4FKGjqnJEn",
        "outputId": "0c9df6db-c3b2-4e00-f5ef-bcfb527e1397"
      },
      "source": [
        "list_Grade = [1,50,65,90,101,-5,49]\r\n",
        "list_Grade"
      ],
      "execution_count": 29,
      "outputs": [
        {
          "output_type": "execute_result",
          "data": {
            "text/plain": [
              "[1, 50, 65, 90, 101, -5, 49]"
            ]
          },
          "metadata": {
            "tags": []
          },
          "execution_count": 29
        }
      ]
    },
    {
      "cell_type": "code",
      "metadata": {
        "colab": {
          "base_uri": "https://localhost:8080/"
        },
        "id": "Lh79pYFMnKH9",
        "outputId": "76ef1b19-be58-4504-b32b-512734a9d78d"
      },
      "source": [
        "for i in list_Grade :\r\n",
        "    grade (i)"
      ],
      "execution_count": 31,
      "outputs": [
        {
          "output_type": "stream",
          "text": [
            "ได้คะแนนเท่ากับ 1 คะแนน เกรดจะเป็น F \n",
            "ได้คะแนนเท่ากับ 50 คะแนน เกรดจะเป็น D \n",
            "ได้คะแนนเท่ากับ 65 คะแนน เกรดจะเป็น C+\n",
            "ได้คะแนนเท่ากับ 90 คะแนน เกรดจะเป็น A  \n",
            "ได้คะแนนเท่ากับ 101 คะแนน เกรดจะเป็น error \n",
            "ได้คะแนนเท่ากับ -5 คะแนน เกรดจะเป็น error \n",
            "ได้คะแนนเท่ากับ 49 คะแนน เกรดจะเป็น F \n"
          ],
          "name": "stdout"
        }
      ]
    }
  ]
}