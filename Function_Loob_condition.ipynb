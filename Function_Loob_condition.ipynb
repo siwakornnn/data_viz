{
  "nbformat": 4,
  "nbformat_minor": 0,
  "metadata": {
    "colab": {
      "name": "Function_Loob_condition.ipynb",
      "provenance": [],
      "authorship_tag": "ABX9TyODKvcjXxwubIDETKy4AXrt",
      "include_colab_link": true
    },
    "kernelspec": {
      "name": "python3",
      "display_name": "Python 3"
    }
  },
  "cells": [
    {
      "cell_type": "markdown",
      "metadata": {
        "id": "view-in-github",
        "colab_type": "text"
      },
      "source": [
        "<a href=\"https://colab.research.google.com/github/siwakornnn/data_viz/blob/main/Function_Loob_condition.ipynb\" target=\"_parent\"><img src=\"https://colab.research.google.com/assets/colab-badge.svg\" alt=\"Open In Colab\"/></a>"
      ]
    },
    {
      "cell_type": "code",
      "metadata": {
        "id": "YQSSRzi7mQRX"
      },
      "source": [
        "def function_name(_Input_)   :\r\n",
        "     do_something with _Input_ to get _Output"
      ],
      "execution_count": null,
      "outputs": []
    },
    {
      "cell_type": "code",
      "metadata": {
        "id": "vV3PWpZnnQl0"
      },
      "source": [
        "def print_name(surname,ID,name):\r\n",
        "     st = f'ชื่อ {name} นามสกุล {surname} รหัส {ID}'\r\n",
        "     return st"
      ],
      "execution_count": 15,
      "outputs": []
    },
    {
      "cell_type": "code",
      "metadata": {
        "colab": {
          "base_uri": "https://localhost:8080/",
          "height": 34
        },
        "id": "iVR0Zj8poJ3z",
        "outputId": "0c6c7aa6-cee1-44b6-aeaa-3d5a3fe37754"
      },
      "source": [
        "print_name('แตงอ่อน','603021840-5','ศิวกร')"
      ],
      "execution_count": 16,
      "outputs": [
        {
          "output_type": "execute_result",
          "data": {
            "application/vnd.google.colaboratory.intrinsic+json": {
              "type": "string"
            },
            "text/plain": [
              "'ชื่อ ศิวกร นามสกุล แตงอ่อน รหัส 603021840-5'"
            ]
          },
          "metadata": {
            "tags": []
          },
          "execution_count": 16
        }
      ]
    },
    {
      "cell_type": "code",
      "metadata": {
        "id": "fPTpeE1HpkHv"
      },
      "source": [
        "def print_name2(surname,ID,name):\r\n",
        "     st = f'ชื่อ {name} นามสกุล {surname} รหัส {ID}'\r\n",
        "     return st"
      ],
      "execution_count": 10,
      "outputs": []
    },
    {
      "cell_type": "code",
      "metadata": {
        "colab": {
          "base_uri": "https://localhost:8080/",
          "height": 34
        },
        "id": "O-qUBFzNp0rD",
        "outputId": "3cfaeb8c-a375-4616-ee52-c2d035e3fff3"
      },
      "source": [
        "print_name2(name = 'ศิวกร' ,surname = 'แตงอ่อน' ,ID = '603021840-5')"
      ],
      "execution_count": 11,
      "outputs": [
        {
          "output_type": "execute_result",
          "data": {
            "application/vnd.google.colaboratory.intrinsic+json": {
              "type": "string"
            },
            "text/plain": [
              "'ชื่อ ศิวกร นามสกุล แตงอ่อน รหัส 603021840-5'"
            ]
          },
          "metadata": {
            "tags": []
          },
          "execution_count": 11
        }
      ]
    },
    {
      "cell_type": "code",
      "metadata": {
        "id": "EmEL5S0Rq4VF"
      },
      "source": [
        "def Pi():\r\n",
        "  return 3.14159265359"
      ],
      "execution_count": 29,
      "outputs": []
    },
    {
      "cell_type": "code",
      "metadata": {
        "colab": {
          "base_uri": "https://localhost:8080/"
        },
        "id": "Q5kbSyEkrDm3",
        "outputId": "e04605b7-0737-4a11-f399-1e1ddb938ae5"
      },
      "source": [
        "Pi()*(2**2)"
      ],
      "execution_count": 30,
      "outputs": [
        {
          "output_type": "execute_result",
          "data": {
            "text/plain": [
              "12.56637061436"
            ]
          },
          "metadata": {
            "tags": []
          },
          "execution_count": 30
        }
      ]
    },
    {
      "cell_type": "code",
      "metadata": {
        "id": "DaFUcrnCry0m"
      },
      "source": [
        "def print_2line_default(name,surname,ID,grade='F'):\r\n",
        "     st1 = f'ชื่อ {name} นามสกุล {surname} รหัส {ID}'\r\n",
        "     print(st1)\r\n",
        "     st2 = f'เกรดวิชา Datd Viz >>> {grade}'\r\n",
        "     print(st2)"
      ],
      "execution_count": 37,
      "outputs": []
    },
    {
      "cell_type": "code",
      "metadata": {
        "colab": {
          "base_uri": "https://localhost:8080/"
        },
        "id": "lvbIAhq0tL67",
        "outputId": "8d96f816-0d7b-46e1-de76-e9836e176159"
      },
      "source": [
        "print_2line_default('ศิวกร','แตงอ่อน','603021840-5')"
      ],
      "execution_count": 39,
      "outputs": [
        {
          "output_type": "stream",
          "text": [
            "ชื่อ ศิวกร นามสกุล แตงอ่อน รหัส 603021840-5\n",
            "เกรดวิชา Datd Viz >>> F\n"
          ],
          "name": "stdout"
        }
      ]
    },
    {
      "cell_type": "code",
      "metadata": {
        "colab": {
          "base_uri": "https://localhost:8080/"
        },
        "id": "d3jyAAoo0hFT",
        "outputId": "f14133a0-bb27-49bb-d7ff-1e089305733d"
      },
      "source": [
        "for i in [1,2,3]:\r\n",
        "     o = i**2\r\n",
        "     print(f'this member = {i} after process = {o}')"
      ],
      "execution_count": 40,
      "outputs": [
        {
          "output_type": "stream",
          "text": [
            "this member = 1 after process = 1\n",
            "this member = 2 after process = 4\n",
            "this member = 3 after process = 9\n"
          ],
          "name": "stdout"
        }
      ]
    }
  ]
}