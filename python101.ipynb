{
  "nbformat": 4,
  "nbformat_minor": 0,
  "metadata": {
    "colab": {
      "name": "python101.ipynb",
      "provenance": [],
      "authorship_tag": "ABX9TyMFX/D9F/gacLZTZ5NOB+wu",
      "include_colab_link": true
    },
    "kernelspec": {
      "name": "python3",
      "display_name": "Python 3"
    }
  },
  "cells": [
    {
      "cell_type": "markdown",
      "metadata": {
        "id": "view-in-github",
        "colab_type": "text"
      },
      "source": [
        "<a href=\"https://colab.research.google.com/github/siwakornnn/data_viz/blob/main/python101.ipynb\" target=\"_parent\"><img src=\"https://colab.research.google.com/assets/colab-badge.svg\" alt=\"Open In Colab\"/></a>"
      ]
    },
    {
      "cell_type": "markdown",
      "metadata": {
        "id": "U9FL7torO295"
      },
      "source": [
        "a = 10"
      ]
    },
    {
      "cell_type": "code",
      "metadata": {
        "id": "bwqozQcsO983"
      },
      "source": [
        "a = 10"
      ],
      "execution_count": null,
      "outputs": []
    },
    {
      "cell_type": "markdown",
      "metadata": {
        "id": "e5qw0ZCPPCBC"
      },
      "source": [
        "print(a)"
      ]
    },
    {
      "cell_type": "code",
      "metadata": {
        "id": "Sihm7LMZQXum"
      },
      "source": [
        ""
      ],
      "execution_count": null,
      "outputs": []
    },
    {
      "cell_type": "code",
      "metadata": {
        "colab": {
          "base_uri": "https://localhost:8080/"
        },
        "id": "2JemOLUIPL3N",
        "outputId": "f868d088-3ffc-4231-b6bd-eaddbe46d92d"
      },
      "source": [
        "b = 10\r\n",
        "print(b)\r\n"
      ],
      "execution_count": null,
      "outputs": [
        {
          "output_type": "stream",
          "text": [
            "10\n"
          ],
          "name": "stdout"
        }
      ]
    },
    {
      "cell_type": "code",
      "metadata": {
        "colab": {
          "base_uri": "https://localhost:8080/"
        },
        "id": "-JEAgTduPggD",
        "outputId": "7e138ab0-7a41-4759-f3f5-fa058ae84d9e"
      },
      "source": [
        "c = 'ศิวกร'\r\n",
        "print(c)\r\n",
        "x = \"dd\"\r\n",
        "print(x)"
      ],
      "execution_count": null,
      "outputs": [
        {
          "output_type": "stream",
          "text": [
            "ศิวกร\n",
            "dd\n"
          ],
          "name": "stdout"
        }
      ]
    },
    {
      "cell_type": "code",
      "metadata": {
        "colab": {
          "base_uri": "https://localhost:8080/"
        },
        "id": "Cj_6883RQiLs",
        "outputId": "50292018-8036-47c9-e26c-7cdbc050704e"
      },
      "source": [
        "a + 1"
      ],
      "execution_count": null,
      "outputs": [
        {
          "output_type": "execute_result",
          "data": {
            "text/plain": [
              "11"
            ]
          },
          "metadata": {
            "tags": []
          },
          "execution_count": 15
        }
      ]
    },
    {
      "cell_type": "code",
      "metadata": {
        "colab": {
          "base_uri": "https://localhost:8080/"
        },
        "id": "VH2-b-eoUUFO",
        "outputId": "a8759b51-62a0-40a9-c145-19a06fcfad2c"
      },
      "source": [
        "print('a')"
      ],
      "execution_count": null,
      "outputs": [
        {
          "output_type": "stream",
          "text": [
            "a\n"
          ],
          "name": "stdout"
        }
      ]
    },
    {
      "cell_type": "code",
      "metadata": {
        "colab": {
          "base_uri": "https://localhost:8080/"
        },
        "id": "d9iN0go5UnFT",
        "outputId": "2a23f529-0b10-4642-b6af-1ff625b1985c"
      },
      "source": [
        "print(f'% คือการหารเอาเศษ เช่น 7%3 = {7%3}')"
      ],
      "execution_count": null,
      "outputs": [
        {
          "output_type": "stream",
          "text": [
            "% คือการหารเอาเศษ เช่น 7%3 = 1\n"
          ],
          "name": "stdout"
        }
      ]
    },
    {
      "cell_type": "code",
      "metadata": {
        "colab": {
          "base_uri": "https://localhost:8080/"
        },
        "id": "6B6fYZ98VTKt",
        "outputId": "d60aef54-7902-4f56-b3db-805e372275ac"
      },
      "source": [
        "print(f'% คือการหารเอาเศษ เช่น 7%3 = {7%3} แต่ \\n/ คือ การหารปกติ เช่น 7/3 = {7/3}  \\\\\r\n",
        "หรือ \\nใช้ int เพื่อหารเอาส่งย เช่น int(7/3) = {int(7/3)}')"
      ],
      "execution_count": null,
      "outputs": [
        {
          "output_type": "stream",
          "text": [
            "% คือการหารเอาเศษ เช่น 7%3 = 1 แต่ \n",
            "/ คือ การหารปกติ เช่น 7/3 = 2.3333333333333335  \\หรือ \n",
            "ใช้ int เพื่อหารเอาส่งย เช่น int(7/3) = 2\n"
          ],
          "name": "stdout"
        }
      ]
    },
    {
      "cell_type": "code",
      "metadata": {
        "colab": {
          "base_uri": "https://localhost:8080/"
        },
        "id": "D7UFO960WA-e",
        "outputId": "91d57437-afb1-4579-bf5e-1b87fe514d63"
      },
      "source": [
        "list_a = []\r\n",
        "list_b = [1,5,'v']\r\n",
        "print(list_b)\r\n",
        "print(list_b[1])\r\n",
        "list_b.append([])\r\n",
        "len(list_b)"
      ],
      "execution_count": null,
      "outputs": [
        {
          "output_type": "stream",
          "text": [
            "[1, 5, 'v']\n",
            "5\n"
          ],
          "name": "stdout"
        },
        {
          "output_type": "execute_result",
          "data": {
            "text/plain": [
              "4"
            ]
          },
          "metadata": {
            "tags": []
          },
          "execution_count": 36
        }
      ]
    },
    {
      "cell_type": "code",
      "metadata": {
        "colab": {
          "base_uri": "https://localhost:8080/",
          "height": 35
        },
        "id": "MUFYuMkxeWWT",
        "outputId": "72c25e53-091a-4448-d58f-72941be7cda9"
      },
      "source": [
        "t = 'python is easy'\r\n",
        "t[1]\r\n",
        "t[-3]"
      ],
      "execution_count": null,
      "outputs": [
        {
          "output_type": "execute_result",
          "data": {
            "application/vnd.google.colaboratory.intrinsic+json": {
              "type": "string"
            },
            "text/plain": [
              "'a'"
            ]
          },
          "metadata": {
            "tags": []
          },
          "execution_count": 39
        }
      ]
    },
    {
      "cell_type": "code",
      "metadata": {
        "colab": {
          "base_uri": "https://localhost:8080/"
        },
        "id": "VKoDJW4rfrwJ",
        "outputId": "834bbd11-60a9-4fd9-98b4-3d5d9f3ec571"
      },
      "source": [
        "print(t)\r\n",
        "print(t[7:9])\r\n",
        "print(t[:9])\r\n",
        "print(t[-4:])\r\n",
        "print(t[:])"
      ],
      "execution_count": null,
      "outputs": [
        {
          "output_type": "stream",
          "text": [
            "python is easy\n",
            "is\n",
            "python is\n",
            "easy\n",
            "python is easy\n"
          ],
          "name": "stdout"
        }
      ]
    },
    {
      "cell_type": "code",
      "metadata": {
        "colab": {
          "base_uri": "https://localhost:8080/"
        },
        "id": "l6xUtiiojaAV",
        "outputId": "5eecbf4a-9cfc-4bb7-80f8-c405b723e9e1"
      },
      "source": [
        "t.split(' ')\r\n",
        "t.split(':')"
      ],
      "execution_count": null,
      "outputs": [
        {
          "output_type": "execute_result",
          "data": {
            "text/plain": [
              "['python is easy']"
            ]
          },
          "metadata": {
            "tags": []
          },
          "execution_count": 49
        }
      ]
    },
    {
      "cell_type": "code",
      "metadata": {
        "id": "M4c7yWjzmZ7A",
        "outputId": "09f0beb2-9d8a-462a-dd3c-ced833e507bb",
        "colab": {
          "base_uri": "https://localhost:8080/"
        }
      },
      "source": [
        "time = '12 : 30 : 15'\r\n",
        "a = time.split( ' : ' )\r\n",
        "a\r\n",
        "second = (int(a[0])*3600)+(int(a[1])*60)+int(a[2])\r\n",
        "sec = f'{time} = {second} วินาที'\r\n",
        "print(sec)\r\n",
        "\r\n",
        "time = '13 : 41 : 07'\r\n",
        "a = time.split( ' : ' )\r\n",
        "a\r\n",
        "second = (int(a[0])*3600)+(int(a[1])*60)+int(a[2])\r\n",
        "sec = f'{time} = {second} วินาที'\r\n",
        "print(sec)\r\n",
        "\r\n",
        "time = '12 : 53 : 15'\r\n",
        "a = time.split( ' : ' )\r\n",
        "a\r\n",
        "second = (int(a[0])*3600)+(int(a[1])*60)+int(a[2])\r\n",
        "sec = f'{time} = {second} วินาที'\r\n",
        "print(sec)\r\n",
        "\r\n",
        "time = '00 : 59 : 25'\r\n",
        "a = time.split( ' : ' )\r\n",
        "a\r\n",
        "second = (int(a[0])*3600)+(int(a[1])*60)+int(a[2])\r\n",
        "sec = f'{time} = {second} วินาที'\r\n",
        "print(sec)\r\n",
        "\r\n",
        "time = '12 : 30 : 15'\r\n",
        "a = time.split( ' : ' )\r\n",
        "a\r\n",
        "second = (int(a[0])*3600)+(int(a[1])*60)+int(a[2])\r\n",
        "sec = f'{time} = {second} วินาที'\r\n",
        "print(sec)\r\n",
        "\r\n",
        "time = '11 : 11 : 11'\r\n",
        "a = time.split( ' : ' )\r\n",
        "a\r\n",
        "second = (int(a[0])*3600)+(int(a[1])*60)+int(a[2])\r\n",
        "sec = f'{time} = {second} วินาที'\r\n",
        "print(sec)\r\n",
        "\r\n",
        "time = '16 : 06 : 09'\r\n",
        "a = time.split( ' : ' )\r\n",
        "a\r\n",
        "second = (int(a[0])*3600)+(int(a[1])*60)+int(a[2])\r\n",
        "sec = f'{time} = {second} วินาที'\r\n",
        "print(sec)"
      ],
      "execution_count": 5,
      "outputs": [
        {
          "output_type": "stream",
          "text": [
            "12 : 30 : 15 = 45015 วินาที\n",
            "13 : 41 : 07 = 49267 วินาที\n",
            "12 : 53 : 15 = 46395 วินาที\n",
            "00 : 59 : 25 = 3565 วินาที\n",
            "12 : 30 : 15 = 45015 วินาที\n",
            "11 : 11 : 11 = 40271 วินาที\n",
            "16 : 06 : 09 = 57969 วินาที\n"
          ],
          "name": "stdout"
        }
      ]
    },
    {
      "cell_type": "code",
      "metadata": {
        "id": "Uiqtaskaj2yr"
      },
      "source": [
        "def Time_sec(Time):\r\n",
        "  list_Time = Time.split(':') \r\n",
        "  H = (int(list_Time[0])*3600)\r\n",
        "  Min = (int(list_Time[1])*60)\r\n",
        "  Sec = (int(list_Time[2]))\r\n",
        "  sum = f'เวลา {Time}   = {H+Min+Sec} วินาที'\r\n",
        "  print(sum)"
      ],
      "execution_count": 1,
      "outputs": []
    },
    {
      "cell_type": "code",
      "metadata": {
        "id": "LZnSxrY5j8IF",
        "outputId": "be2a4753-cf57-4758-bce0-342fad1ccc33",
        "colab": {
          "base_uri": "https://localhost:8080/"
        }
      },
      "source": [
        "Time_sec('12:30:15')\r\n",
        "Time_sec('13:41:07')\r\n",
        "Time_sec('12:53:15')\r\n",
        "Time_sec('00:59:25')\r\n",
        "Time_sec('11:11:11')\r\n",
        "Time_sec('16:06:09')"
      ],
      "execution_count": 2,
      "outputs": [
        {
          "output_type": "stream",
          "text": [
            "เวลา 12:30:15   = 45015 วินาที\n",
            "เวลา 13:41:07   = 49267 วินาที\n",
            "เวลา 12:53:15   = 46395 วินาที\n",
            "เวลา 00:59:25   = 3565 วินาที\n",
            "เวลา 11:11:11   = 40271 วินาที\n",
            "เวลา 16:06:09   = 57969 วินาที\n"
          ],
          "name": "stdout"
        }
      ]
    },
    {
      "cell_type": "code",
      "metadata": {
        "id": "YmEm3jfQlWtO",
        "outputId": "6b503882-1898-4e24-8c83-4d74b6464c54",
        "colab": {
          "base_uri": "https://localhost:8080/"
        }
      },
      "source": [
        "for Time in ['12:30:15','13:41:07','12:53:15','00:59:25','11:11:11','16:06:09'] :\r\n",
        "    list_T = Time.split(':')\r\n",
        "    sum_sec = (int(list_T[0])*3600)+(int(list_T[1])*60)+(int(list_T[2]))\r\n",
        "    print (f'เวลา {Time}   = {sum_sec} วินาที')"
      ],
      "execution_count": 3,
      "outputs": [
        {
          "output_type": "stream",
          "text": [
            "เวลา 12:30:15   = 45015 วินาที\n",
            "เวลา 13:41:07   = 49267 วินาที\n",
            "เวลา 12:53:15   = 46395 วินาที\n",
            "เวลา 00:59:25   = 3565 วินาที\n",
            "เวลา 11:11:11   = 40271 วินาที\n",
            "เวลา 16:06:09   = 57969 วินาที\n"
          ],
          "name": "stdout"
        }
      ]
    }
  ]
}