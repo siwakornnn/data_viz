{
  "nbformat": 4,
  "nbformat_minor": 0,
  "metadata": {
    "colab": {
      "name": "python101.ipynb",
      "provenance": [],
      "authorship_tag": "ABX9TyPwGoqWkAhfjvbydSOEeMHS",
      "include_colab_link": true
    },
    "kernelspec": {
      "name": "python3",
      "display_name": "Python 3"
    }
  },
  "cells": [
    {
      "cell_type": "markdown",
      "metadata": {
        "id": "view-in-github",
        "colab_type": "text"
      },
      "source": [
        "<a href=\"https://colab.research.google.com/github/siwakornnn/data_viz/blob/main/python101.ipynb\" target=\"_parent\"><img src=\"https://colab.research.google.com/assets/colab-badge.svg\" alt=\"Open In Colab\"/></a>"
      ]
    },
    {
      "cell_type": "markdown",
      "metadata": {
        "id": "U9FL7torO295"
      },
      "source": [
        "a = 10"
      ]
    },
    {
      "cell_type": "code",
      "metadata": {
        "id": "bwqozQcsO983"
      },
      "source": [
        "a = 10"
      ],
      "execution_count": 8,
      "outputs": []
    },
    {
      "cell_type": "markdown",
      "metadata": {
        "id": "e5qw0ZCPPCBC"
      },
      "source": [
        "print(a)"
      ]
    },
    {
      "cell_type": "code",
      "metadata": {
        "id": "Sihm7LMZQXum"
      },
      "source": [
        ""
      ],
      "execution_count": null,
      "outputs": []
    },
    {
      "cell_type": "code",
      "metadata": {
        "colab": {
          "base_uri": "https://localhost:8080/"
        },
        "id": "2JemOLUIPL3N",
        "outputId": "f868d088-3ffc-4231-b6bd-eaddbe46d92d"
      },
      "source": [
        "b = 10\r\n",
        "print(b)\r\n"
      ],
      "execution_count": 10,
      "outputs": [
        {
          "output_type": "stream",
          "text": [
            "10\n"
          ],
          "name": "stdout"
        }
      ]
    },
    {
      "cell_type": "code",
      "metadata": {
        "colab": {
          "base_uri": "https://localhost:8080/"
        },
        "id": "-JEAgTduPggD",
        "outputId": "7e138ab0-7a41-4759-f3f5-fa058ae84d9e"
      },
      "source": [
        "c = 'ศิวกร'\r\n",
        "print(c)\r\n",
        "x = \"dd\"\r\n",
        "print(x)"
      ],
      "execution_count": 13,
      "outputs": [
        {
          "output_type": "stream",
          "text": [
            "ศิวกร\n",
            "dd\n"
          ],
          "name": "stdout"
        }
      ]
    },
    {
      "cell_type": "code",
      "metadata": {
        "colab": {
          "base_uri": "https://localhost:8080/"
        },
        "id": "Cj_6883RQiLs",
        "outputId": "50292018-8036-47c9-e26c-7cdbc050704e"
      },
      "source": [
        "a + 1"
      ],
      "execution_count": 15,
      "outputs": [
        {
          "output_type": "execute_result",
          "data": {
            "text/plain": [
              "11"
            ]
          },
          "metadata": {
            "tags": []
          },
          "execution_count": 15
        }
      ]
    },
    {
      "cell_type": "code",
      "metadata": {
        "colab": {
          "base_uri": "https://localhost:8080/"
        },
        "id": "VH2-b-eoUUFO",
        "outputId": "a8759b51-62a0-40a9-c145-19a06fcfad2c"
      },
      "source": [
        "print('a')"
      ],
      "execution_count": 16,
      "outputs": [
        {
          "output_type": "stream",
          "text": [
            "a\n"
          ],
          "name": "stdout"
        }
      ]
    },
    {
      "cell_type": "code",
      "metadata": {
        "colab": {
          "base_uri": "https://localhost:8080/"
        },
        "id": "d9iN0go5UnFT",
        "outputId": "2a23f529-0b10-4642-b6af-1ff625b1985c"
      },
      "source": [
        "print(f'% คือการหารเอาเศษ เช่น 7%3 = {7%3}')"
      ],
      "execution_count": 20,
      "outputs": [
        {
          "output_type": "stream",
          "text": [
            "% คือการหารเอาเศษ เช่น 7%3 = 1\n"
          ],
          "name": "stdout"
        }
      ]
    },
    {
      "cell_type": "code",
      "metadata": {
        "colab": {
          "base_uri": "https://localhost:8080/"
        },
        "id": "6B6fYZ98VTKt",
        "outputId": "d60aef54-7902-4f56-b3db-805e372275ac"
      },
      "source": [
        "print(f'% คือการหารเอาเศษ เช่น 7%3 = {7%3} แต่ \\n/ คือ การหารปกติ เช่น 7/3 = {7/3}  \\\\\r\n",
        "หรือ \\nใช้ int เพื่อหารเอาส่งย เช่น int(7/3) = {int(7/3)}')"
      ],
      "execution_count": 31,
      "outputs": [
        {
          "output_type": "stream",
          "text": [
            "% คือการหารเอาเศษ เช่น 7%3 = 1 แต่ \n",
            "/ คือ การหารปกติ เช่น 7/3 = 2.3333333333333335  \\หรือ \n",
            "ใช้ int เพื่อหารเอาส่งย เช่น int(7/3) = 2\n"
          ],
          "name": "stdout"
        }
      ]
    },
    {
      "cell_type": "code",
      "metadata": {
        "colab": {
          "base_uri": "https://localhost:8080/"
        },
        "id": "D7UFO960WA-e",
        "outputId": "91d57437-afb1-4579-bf5e-1b87fe514d63"
      },
      "source": [
        "list_a = []\r\n",
        "list_b = [1,5,'v']\r\n",
        "print(list_b)\r\n",
        "print(list_b[1])\r\n",
        "list_b.append([])\r\n",
        "len(list_b)"
      ],
      "execution_count": 36,
      "outputs": [
        {
          "output_type": "stream",
          "text": [
            "[1, 5, 'v']\n",
            "5\n"
          ],
          "name": "stdout"
        },
        {
          "output_type": "execute_result",
          "data": {
            "text/plain": [
              "4"
            ]
          },
          "metadata": {
            "tags": []
          },
          "execution_count": 36
        }
      ]
    },
    {
      "cell_type": "code",
      "metadata": {
        "colab": {
          "base_uri": "https://localhost:8080/",
          "height": 35
        },
        "id": "MUFYuMkxeWWT",
        "outputId": "72c25e53-091a-4448-d58f-72941be7cda9"
      },
      "source": [
        "t = 'python is easy'\r\n",
        "t[1]\r\n",
        "t[-3]"
      ],
      "execution_count": 39,
      "outputs": [
        {
          "output_type": "execute_result",
          "data": {
            "application/vnd.google.colaboratory.intrinsic+json": {
              "type": "string"
            },
            "text/plain": [
              "'a'"
            ]
          },
          "metadata": {
            "tags": []
          },
          "execution_count": 39
        }
      ]
    },
    {
      "cell_type": "code",
      "metadata": {
        "colab": {
          "base_uri": "https://localhost:8080/"
        },
        "id": "VKoDJW4rfrwJ",
        "outputId": "834bbd11-60a9-4fd9-98b4-3d5d9f3ec571"
      },
      "source": [
        "print(t)\r\n",
        "print(t[7:9])\r\n",
        "print(t[:9])\r\n",
        "print(t[-4:])\r\n",
        "print(t[:])"
      ],
      "execution_count": 47,
      "outputs": [
        {
          "output_type": "stream",
          "text": [
            "python is easy\n",
            "is\n",
            "python is\n",
            "easy\n",
            "python is easy\n"
          ],
          "name": "stdout"
        }
      ]
    },
    {
      "cell_type": "code",
      "metadata": {
        "colab": {
          "base_uri": "https://localhost:8080/"
        },
        "id": "l6xUtiiojaAV",
        "outputId": "5eecbf4a-9cfc-4bb7-80f8-c405b723e9e1"
      },
      "source": [
        "t.split(' ')\r\n",
        "t.split(':')"
      ],
      "execution_count": 49,
      "outputs": [
        {
          "output_type": "execute_result",
          "data": {
            "text/plain": [
              "['python is easy']"
            ]
          },
          "metadata": {
            "tags": []
          },
          "execution_count": 49
        }
      ]
    }
  ]
}